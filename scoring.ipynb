{
 "cells": [
  {
   "cell_type": "code",
   "execution_count": 24,
   "metadata": {},
   "outputs": [],
   "source": [
    "import pandas as pd\n",
    "import os\n",
    "from src.prompts import language_dict\n",
    "\n",
    "def get_keys_by_value(d, target_value):\n",
    "    return [key for key, value in d.items() if value == target_value][0]\n",
    "\n",
    "languages = [\"Afrikaans\", \"Arabic\", \"Chinese_(Simplified)\", \"English\", \"French\", \"German\", \"Hebrew\", \"Indonesian\", \"Italian\", \"Japanese\", \"Korean\", \"Spanish\", \"Turkish\", \"Vietnamese\"]\n",
    "models = [\n",
    "    \"jwhj/Qwen2.5-Math-1.5B-OREO\", \"nvidia/AceMath-1.5B-Instruct\",\n",
    "    \"deepseek-ai/DeepSeek-R1-Distill-Qwen-1.5B\", \"Qwen/Qwen2.5-Math-1.5B-Instruct\",\n",
    "    \"PRIME-RL/Eurus-2-7B-PRIME\", \"deepseek-ai/DeepSeek-R1-Distill-Qwen-7B\",\n",
    "    \"nvidia/AceMath-7B-Instruct\", \"Qwen/Qwen2.5-Math-7B-Instruct\",\n",
    "    \"deepseek-ai/DeepSeek-R1-Distill-Qwen-32B\", \"o3-mini\"\n",
    "]\n",
    "iso = [get_keys_by_value(language_dict, l) for l in languages]\n",
    "\n",
    "res = {\"model\": models}\n",
    "for i, l in enumerate(languages):\n",
    "    # for task in [\"math500\", \"math100\"]:\n",
    "    #     df = pd.read_csv(os.path.join(\"score_result\", f\"{task}.csv\"))\n",
    "    #     res[f\"{l}_{task[-3:]}\"] = list(df[l])\n",
    "    df_500, df_100 = pd.read_csv(os.path.join(\"score_result\", \"math500.csv\")), pd.read_csv(os.path.join(\"score_result\", \"math100.csv\"))\n",
    "    res[iso[i]] = []\n",
    "    for m in models:\n",
    "        m = m.replace(\"/\", \"_\")\n",
    "        df_500_index, df_100_index = list(df_500[\"model\"]).index(m), list(df_100[\"model\"]).index(m)\n",
    "        # res[iso[i]].append(abs(list(df_500[l])[df_500_index] - list(df_100[l])[df_100_index]))\n",
    "        res[iso[i]].append(list(df_500[l])[df_500_index])\n",
    "res = pd.DataFrame(res)\n",
    "res.to_excel(\"check.xlsx\", index=False)\n",
    "# .to_csv(f\"result_{task}.csv\", index=False)"
   ]
  },
  {
   "cell_type": "code",
   "execution_count": null,
   "metadata": {},
   "outputs": [
    {
     "data": {
      "application/vnd.jupyter.widget-view+json": {
       "model_id": "3b4bef4b330242d1a77a7c5436c129b4",
       "version_major": 2,
       "version_minor": 0
      },
      "text/plain": [
       "  0%|          | 0/100 [00:00<?, ?it/s]"
      ]
     },
     "metadata": {},
     "output_type": "display_data"
    },
    {
     "ename": "TypeError",
     "evalue": "dump() missing required argument 'file' (pos 2)",
     "output_type": "error",
     "traceback": [
      "\u001b[0;31m---------------------------------------------------------------------------\u001b[0m",
      "\u001b[0;31mTypeError\u001b[0m                                 Traceback (most recent call last)",
      "Cell \u001b[0;32mIn[40], line 54\u001b[0m\n\u001b[1;32m     52\u001b[0m \u001b[38;5;28;01mimport\u001b[39;00m \u001b[38;5;21;01mpickle\u001b[39;00m\n\u001b[1;32m     53\u001b[0m \u001b[38;5;28;01mwith\u001b[39;00m \u001b[38;5;28mopen\u001b[39m(\u001b[38;5;124m'\u001b[39m\u001b[38;5;124mboot.pickle\u001b[39m\u001b[38;5;124m'\u001b[39m, \u001b[38;5;124m\"\u001b[39m\u001b[38;5;124mwb\u001b[39m\u001b[38;5;124m\"\u001b[39m) \u001b[38;5;28;01mas\u001b[39;00m f:\n\u001b[0;32m---> 54\u001b[0m     pickle\u001b[38;5;241m.\u001b[39mdump(result_dict)\n",
      "\u001b[0;31mTypeError\u001b[0m: dump() missing required argument 'file' (pos 2)"
     ]
    }
   ],
   "source": [
    "import pandas as pd\n",
    "import random\n",
    "import os\n",
    "import numpy as np\n",
    "from tqdm.auto import tqdm\n",
    "\n",
    "result_dict = {\n",
    "    \"math500\": {\n",
    "        \"jwhj/Qwen2.5-Math-1.5B-OREO\": [],\n",
    "        \"nvidia/AceMath-1.5B-Instruct\": [],\n",
    "        \"deepseek-ai/DeepSeek-R1-Distill-Qwen-1.5B\": [],\n",
    "        \"Qwen/Qwen2.5-Math-1.5B-Instruct\": [],\n",
    "        \"PRIME-RL/Eurus-2-7B-PRIME\": [],\n",
    "        \"deepseek-ai/DeepSeek-R1-Distill-Qwen-7B\": [],\n",
    "        \"nvidia/AceMath-7B-Instruct\": [],\n",
    "        \"Qwen/Qwen2.5-Math-7B-Instruct\": [],\n",
    "        \"deepseek-ai/DeepSeek-R1-Distill-Qwen-32B\": [],\n",
    "        \"o3-mini\": []\n",
    "    },\n",
    "    \"math100\": {\n",
    "        \"jwhj/Qwen2.5-Math-1.5B-OREO\": [],\n",
    "        \"nvidia/AceMath-1.5B-Instruct\": [],\n",
    "        \"deepseek-ai/DeepSeek-R1-Distill-Qwen-1.5B\": [],\n",
    "        \"Qwen/Qwen2.5-Math-1.5B-Instruct\": [],\n",
    "        \"PRIME-RL/Eurus-2-7B-PRIME\": [],\n",
    "        \"deepseek-ai/DeepSeek-R1-Distill-Qwen-7B\": [],\n",
    "        \"nvidia/AceMath-7B-Instruct\": [],\n",
    "        \"Qwen/Qwen2.5-Math-7B-Instruct\": [],\n",
    "        \"deepseek-ai/DeepSeek-R1-Distill-Qwen-32B\": [],\n",
    "        \"o3-mini\": []\n",
    "    }\n",
    "}\n",
    "model_list = list(result_dict[\"math500\"].keys())\n",
    "\n",
    "n, m = 50, 100\n",
    "\n",
    "for _ in tqdm(range(m)):\n",
    "    random_index_500, random_index_100 = random.sample(list(range(499)), n), random.sample(list(range(99)), n)\n",
    "    for model in model_list:\n",
    "        for task in [\"math500\", \"math100\"]:\n",
    "            check = []\n",
    "            for file in [f for f in os.listdir(os.path.join(\"score_logs\", task, model.replace(\"/\", \"_\"))) if \".jsonl\" in f]:\n",
    "                df = pd.read_csv(os.path.join(\"score_logs\", task, model.replace(\"/\", \"_\"), file))\n",
    "                if task == \"math500\":\n",
    "                    df = df[df.index.isin(random_index_500)]\n",
    "                elif task == \"math100\":\n",
    "                    df = df[df.index.isin(random_index_100)]\n",
    "                df.reset_index(inplace=True, drop=True)\n",
    "                check.append(list(df[\"correctness\"]).count(True) / len(df) * 100)\n",
    "            result_dict[task][model].append(np.mean(check))\n",
    "\n",
    "import pickle\n",
    "with open('boot.pickle', \"wb\") as f:\n",
    "    pickle.dump(result_dict, f)"
   ]
  },
  {
   "cell_type": "code",
   "execution_count": 47,
   "metadata": {},
   "outputs": [
    {
     "name": "stdout",
     "output_type": "stream",
     "text": [
      "--------------------- Evaluation Score T-test ---------------------\n"
     ]
    },
    {
     "data": {
      "text/plain": [
       "SignificanceResult(statistic=0.9555555555555554, pvalue=5.5114638447971785e-06)"
      ]
     },
     "execution_count": 47,
     "metadata": {},
     "output_type": "execute_result"
    }
   ],
   "source": [
    "import scipy.stats\n",
    "import pickle\n",
    "\n",
    "with open(\"boot.pickle\", \"rb\") as f:\n",
    "    a = pickle.load(f)\n",
    "\n",
    "print(f\"--------------------- Evaluation Score T-test ---------------------\")\n",
    "check_500, check_100 = [], []\n",
    "for key in a[\"math500\"].keys():\n",
    "    # tau, p_value = scipy.stats.kendalltau(a[\"math500\"][key], a[\"math100\"][key])  # Welch's t-test 적용\n",
    "    check_500.append(np.mean(a[\"math500\"][key]))\n",
    "    check_100.append(np.mean(a[\"math100\"][key]))\n",
    "    # print(f\"{key} - Kendall-Tau: {tau:.4f}, P-Value: {p_value:.4f}\")\n",
    "scipy.stats.kendalltau(check_500, check_100)"
   ]
  }
 ],
 "metadata": {
  "kernelspec": {
   "display_name": "base",
   "language": "python",
   "name": "python3"
  },
  "language_info": {
   "codemirror_mode": {
    "name": "ipython",
    "version": 3
   },
   "file_extension": ".py",
   "mimetype": "text/x-python",
   "name": "python",
   "nbconvert_exporter": "python",
   "pygments_lexer": "ipython3",
   "version": "3.12.4"
  }
 },
 "nbformat": 4,
 "nbformat_minor": 2
}
