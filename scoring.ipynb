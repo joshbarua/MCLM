{
 "cells": [
  {
   "cell_type": "code",
   "execution_count": null,
   "metadata": {},
   "outputs": [],
   "source": [
    "from src.score import get_score\n",
    "import pandas as pd\n",
    "import os\n",
    "\n",
    "# lang = [\n",
    "#     \"bg\", \"bn\", \"ca\", \"cs\", \"cy\", \"da\", \"el\", \"et\", \"fa\", \"fi\", \"gu\", \"hi\", \"hr\", \"hu\", \"kn\", \n",
    "#     \"lt\", \"lv\", \"mk\", \"ml\", \"mr\", \"ne\", \"nl\", \"no\", \"pa\", \"pl\", \"pt\", \"ro\", \"ru\", \"sk\", \"sl\", \n",
    "#     \"so\", \"sq\", \"sv\", \"sw\", \"ta\", \"te\", \"th\", \"tl\", \"uk\", \"ur\"\n",
    "# ]\n",
    "lang=[\n",
    "    \"Turkish\",\n",
    "    \"Spanish\",\n",
    "    \"Japanese\",\n",
    "    \"Italian\",\n",
    "    \"Vietnamese\",\n",
    "    \"Indonesian\",\n",
    "    \"Hebrew\",\n",
    "    \"German\",\n",
    "    \"English\",\n",
    "    \"French\",\n",
    "    \"Chinese_(Simplified)\",\n",
    "    \"Arabic\",\n",
    "    \"Afrikaans\",\n",
    "    \"Korean\",\n",
    "]\n",
    "\n",
    "\n",
    "for task in [\"math500\", \"aime2024\"]:\n",
    "    # models = [f for f in os.listdir(os.path.join(\"results\", f\"{task}\")) if (\"DS\" not in f) and (\"ipynb\" not in f)]\n",
    "    models = [\"amphora_3b-5k-en\"]\n",
    "    res = {\"model\": models}\n",
    "    if len(list(res.keys())) == 1:\n",
    "        for l in lang:\n",
    "            res[l] = []\n",
    "    for model in models:\n",
    "        for l in lang:\n",
    "            if os.path.exists(os.path.join(f\"results/{task}/{model}\", f\"{l}.jsonl\")):\n",
    "                score = get_score(os.path.join(f\"results/{task}/{model}\", f\"{l}.jsonl\"))\n",
    "                res[l].append(score[0])\n",
    "            else:\n",
    "                res[l].append(None)\n",
    "    pd.DataFrame(res).to_csv(f\"result_{task}.csv\", index=False)"
   ]
  },
  {
   "cell_type": "code",
   "execution_count": 65,
   "metadata": {},
   "outputs": [],
   "source": [
    "import pandas as pd\n",
    "import os\n",
    "\n",
    "for t in [\"aime2024.csv\", \"math500.csv\"]:\n",
    "    df = pd.read_csv(os.path.join(\"lcs_new_results\", t))\n",
    "    df.to_excel(t.replace(\".csv\", \"_new.xlsx\"), index=False)"
   ]
  },
  {
   "cell_type": "code",
   "execution_count": 58,
   "metadata": {},
   "outputs": [],
   "source": [
    "import pandas as pd\n",
    "\n",
    "df = pd.read_json(\"results/math500/OLAIR_ko-r1-1.5b-preview/Japanese.jsonl\", lines=True)"
   ]
  },
  {
   "cell_type": "code",
   "execution_count": 61,
   "metadata": {},
   "outputs": [
    {
     "data": {
      "text/plain": [
       "[ko:0.9999976503521913]"
      ]
     },
     "execution_count": 61,
     "metadata": {},
     "output_type": "execute_result"
    }
   ],
   "source": [
    "from langdetect import detect_langs\n",
    "import re\n",
    "\n",
    "def remove_math_expressions(text: str) -> str:\n",
    "    \"\"\"\n",
    "    Removes mathematical expressions from the given text.\n",
    "    \"\"\"\n",
    "    # Remove inline math expressions \\( ... \\)\n",
    "    text = re.sub(r'\\\\\\(.*?\\\\\\)', '', text, flags=re.DOTALL)\n",
    "    # Remove block math expressions \\[ ... \\]\n",
    "    text = re.sub(r'\\\\\\[.*?\\\\\\]', '', text, flags=re.DOTALL)\n",
    "    # Remove boxed expressions \\boxed{ ... }\n",
    "    text = re.sub(r'\\\\boxed{.*?}', '', text, flags=re.DOTALL)\n",
    "    # Remove special characters, newlines, colons, and asterisks\n",
    "    text = re.sub(r'[\\n*:\\\\]', '', text)\n",
    "    return text.strip()\n",
    "\n",
    "a = remove_math_expressions(df.loc[2, \"response\"].split(\"<solution>\")[-1].split(\"</solution>\")[0])\n",
    "detect_langs(a)"
   ]
  }
 ],
 "metadata": {
  "kernelspec": {
   "display_name": "base",
   "language": "python",
   "name": "python3"
  },
  "language_info": {
   "codemirror_mode": {
    "name": "ipython",
    "version": 3
   },
   "file_extension": ".py",
   "mimetype": "text/x-python",
   "name": "python",
   "nbconvert_exporter": "python",
   "pygments_lexer": "ipython3",
   "version": "3.12.4"
  }
 },
 "nbformat": 4,
 "nbformat_minor": 2
}
