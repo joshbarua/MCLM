{
 "cells": [
  {
   "cell_type": "code",
   "execution_count": 24,
   "metadata": {},
   "outputs": [],
   "source": [
    "import pandas as pd\n",
    "import os\n",
    "from src.prompts import language_dict\n",
    "\n",
    "def get_keys_by_value(d, target_value):\n",
    "    return [key for key, value in d.items() if value == target_value][0]\n",
    "\n",
    "languages = [\"Afrikaans\", \"Arabic\", \"Chinese_(Simplified)\", \"English\", \"French\", \"German\", \"Hebrew\", \"Indonesian\", \"Italian\", \"Japanese\", \"Korean\", \"Spanish\", \"Turkish\", \"Vietnamese\"]\n",
    "models = [\n",
    "    \"jwhj/Qwen2.5-Math-1.5B-OREO\", \"nvidia/AceMath-1.5B-Instruct\",\n",
    "    \"deepseek-ai/DeepSeek-R1-Distill-Qwen-1.5B\", \"Qwen/Qwen2.5-Math-1.5B-Instruct\",\n",
    "    \"PRIME-RL/Eurus-2-7B-PRIME\", \"deepseek-ai/DeepSeek-R1-Distill-Qwen-7B\",\n",
    "    \"nvidia/AceMath-7B-Instruct\", \"Qwen/Qwen2.5-Math-7B-Instruct\",\n",
    "    \"deepseek-ai/DeepSeek-R1-Distill-Qwen-32B\", \"o3-mini\"\n",
    "]\n",
    "iso = [get_keys_by_value(language_dict, l) for l in languages]\n",
    "\n",
    "res = {\"model\": models}\n",
    "for i, l in enumerate(languages):\n",
    "    # for task in [\"math500\", \"math100\"]:\n",
    "    #     df = pd.read_csv(os.path.join(\"score_result\", f\"{task}.csv\"))\n",
    "    #     res[f\"{l}_{task[-3:]}\"] = list(df[l])\n",
    "    df_500, df_100 = pd.read_csv(os.path.join(\"score_result\", \"math500.csv\")), pd.read_csv(os.path.join(\"score_result\", \"math100.csv\"))\n",
    "    res[iso[i]] = []\n",
    "    for m in models:\n",
    "        m = m.replace(\"/\", \"_\")\n",
    "        df_500_index, df_100_index = list(df_500[\"model\"]).index(m), list(df_100[\"model\"]).index(m)\n",
    "        # res[iso[i]].append(abs(list(df_500[l])[df_500_index] - list(df_100[l])[df_100_index]))\n",
    "        res[iso[i]].append(list(df_500[l])[df_500_index])\n",
    "res = pd.DataFrame(res)\n",
    "res.to_excel(\"check.xlsx\", index=False)\n",
    "# .to_csv(f\"result_{task}.csv\", index=False)"
   ]
  },
  {
   "cell_type": "code",
   "execution_count": 47,
   "metadata": {},
   "outputs": [
    {
     "name": "stdout",
     "output_type": "stream",
     "text": [
      "--------------------- Evaluation Score T-test ---------------------\n"
     ]
    },
    {
     "data": {
      "text/plain": [
       "SignificanceResult(statistic=0.9555555555555554, pvalue=5.5114638447971785e-06)"
      ]
     },
     "execution_count": 47,
     "metadata": {},
     "output_type": "execute_result"
    }
   ],
   "source": [
    "import scipy.stats\n",
    "import pickle\n",
    "\n",
    "with open(\"boot.pickle\", \"rb\") as f:\n",
    "    a = pickle.load(f)\n",
    "\n",
    "print(f\"--------------------- Evaluation Score T-test ---------------------\")\n",
    "check_500, check_100 = [], []\n",
    "for key in a[\"math500\"].keys():\n",
    "    # tau, p_value = scipy.stats.kendalltau(a[\"math500\"][key], a[\"math100\"][key])  # Welch's t-test 적용\n",
    "    check_500.append(np.mean(a[\"math500\"][key]))\n",
    "    check_100.append(np.mean(a[\"math100\"][key]))\n",
    "    # print(f\"{key} - Kendall-Tau: {tau:.4f}, P-Value: {p_value:.4f}\")\n",
    "scipy.stats.kendalltau(check_500, check_100)"
   ]
  },
  {
   "cell_type": "code",
   "execution_count": 4,
   "metadata": {},
   "outputs": [
    {
     "name": "stderr",
     "output_type": "stream",
     "text": [
      "100%|██████████| 99/99 [00:04<00:00, 20.66it/s]\n"
     ]
    },
    {
     "name": "stdout",
     "output_type": "stream",
     "text": [
      "Overall Fleiss' kappa (multi-rater agreement): 0.598\n",
      "Qwen2.5-Math-1.5B-Instruct - math100:  0.5982547552960662\n"
     ]
    },
    {
     "name": "stderr",
     "output_type": "stream",
     "text": [
      "100%|██████████| 30/30 [00:01<00:00, 19.98it/s]\n"
     ]
    },
    {
     "name": "stdout",
     "output_type": "stream",
     "text": [
      "Overall Fleiss' kappa (multi-rater agreement): 0.618\n",
      "Qwen2.5-Math-1.5B-Instruct - aime2024:  0.6178097740597748\n"
     ]
    }
   ],
   "source": [
    "from metrics import evaluate_consistency\n",
    "import os\n",
    "\n",
    "root_path = \"prm_result/1.5B/prm_72B_5_8\"\n",
    "for task in [\"math100\", \"aime2024\"]:\n",
    "    a = evaluate_consistency(os.path.join(root_path, task, \"text-completion-openai_Qwen_Qwen2.5-Math-1.5B-Instruct\"))\n",
    "    print(f\"Qwen2.5-Math-1.5B-Instruct - {task}: \", a)"
   ]
  }
 ],
 "metadata": {
  "kernelspec": {
   "display_name": "base",
   "language": "python",
   "name": "python3"
  },
  "language_info": {
   "codemirror_mode": {
    "name": "ipython",
    "version": 3
   },
   "file_extension": ".py",
   "mimetype": "text/x-python",
   "name": "python",
   "nbconvert_exporter": "python",
   "pygments_lexer": "ipython3",
   "version": "3.12.4"
  }
 },
 "nbformat": 4,
 "nbformat_minor": 2
}
