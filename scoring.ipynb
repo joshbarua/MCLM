{
 "cells": [
  {
   "cell_type": "markdown",
   "metadata": {},
   "source": [
    "### Fleiss' Kappa"
   ]
  },
  {
   "cell_type": "code",
   "execution_count": null,
   "metadata": {},
   "outputs": [],
   "source": [
    "from metrics import evaluate_consistency\n",
    "import os\n",
    "\n",
    "root_path = \"\"\n",
    "model_name = \"\"\n",
    "for task in [\"math100\", \"aime2024\", \"IMO\"]:\n",
    "    a = evaluate_consistency(os.path.join(root_path, task, model_name))\n",
    "    print(f\"Fleiss' Kappa - {task}: \", a)"
   ]
  }
 ],
 "metadata": {
  "kernelspec": {
   "display_name": "base",
   "language": "python",
   "name": "python3"
  },
  "language_info": {
   "codemirror_mode": {
    "name": "ipython",
    "version": 3
   },
   "file_extension": ".py",
   "mimetype": "text/x-python",
   "name": "python",
   "nbconvert_exporter": "python",
   "pygments_lexer": "ipython3",
   "version": "3.12.4"
  }
 },
 "nbformat": 4,
 "nbformat_minor": 2
}
