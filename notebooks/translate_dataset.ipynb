{
 "cells": [
  {
   "cell_type": "code",
   "execution_count": 54,
   "id": "7f1e8c48-12ec-41a1-b0b4-4a92fa2cb86f",
   "metadata": {},
   "outputs": [
    {
     "data": {
      "application/vnd.jupyter.widget-view+json": {
       "model_id": "bd269dcdac594ac5b60a30217a94c63b",
       "version_major": 2,
       "version_minor": 0
      },
      "text/plain": [
       "README.md:   0%|          | 0.00/932 [00:00<?, ?B/s]"
      ]
     },
     "metadata": {},
     "output_type": "display_data"
    },
    {
     "data": {
      "application/vnd.jupyter.widget-view+json": {
       "model_id": "d8160c923a6347f38396e23a3d1f640f",
       "version_major": 2,
       "version_minor": 0
      },
      "text/plain": [
       "train-00000-of-00001.parquet:   0%|          | 0.00/81.7k [00:00<?, ?B/s]"
      ]
     },
     "metadata": {},
     "output_type": "display_data"
    },
    {
     "data": {
      "application/vnd.jupyter.widget-view+json": {
       "model_id": "c2ac94b081734fb5974a6d256544094a",
       "version_major": 2,
       "version_minor": 0
      },
      "text/plain": [
       "Generating train split:   0%|          | 0/30 [00:00<?, ? examples/s]"
      ]
     },
     "metadata": {},
     "output_type": "display_data"
    }
   ],
   "source": [
    "from datasets import load_dataset\n",
    "import pandas as pd\n",
    "ds = load_dataset(\"HuggingFaceH4/aime_2024\")\n",
    "df = pd.DataFrame(ds['train'])"
   ]
  },
  {
   "cell_type": "code",
   "execution_count": 56,
   "id": "6675889b-0db9-4719-b08f-8fee1e144ec4",
   "metadata": {},
   "outputs": [],
   "source": [
    "languages=[\n",
    "    \"Korean\",\n",
    "    \"Afrikaans\",\n",
    "    \"Arabic\",\n",
    "    \"Chinese (Simplified)\",\n",
    "    \"French\",\n",
    "    \"English\",\n",
    "    \"German\",\n",
    "    \"Hebrew\",\n",
    "    \"Indonesian\",\n",
    "    \"Vietnamese\",\n",
    "    \"Italian\",\n",
    "    \"Japanese\",\n",
    "    \"Spanish\",\n",
    "    \"Turkish\",\n",
    "]"
   ]
  },
  {
   "cell_type": "code",
   "execution_count": 67,
   "id": "4f06499f-d6fc-4a48-923a-b3e36f5200f0",
   "metadata": {},
   "outputs": [
    {
     "name": "stderr",
     "output_type": "stream",
     "text": [
      "100%|██████████| 14/14 [01:31<00:00,  6.55s/it]\n"
     ]
    }
   ],
   "source": [
    "from prompts import question_translation_template\n",
    "from litellm import batch_completion\n",
    "from tqdm import tqdm\n",
    "data = []\n",
    "for lang in tqdm(languages):\n",
    "    qrys = []\n",
    "    for _,row in df.iterrows():\n",
    "        query = question_translation_template.replace('<source_question>',row.problem)\n",
    "        query = query.replace('<language>',lang)\n",
    "        qrys.append(\n",
    "            [\n",
    "                {\"role\": \"system\", \"content\": \"You are a skilled translator.\"},\n",
    "                {'role':'user','content':query}\n",
    "            ]\n",
    "        )\n",
    "    responses = batch_completion(\n",
    "        model=\"gpt-4o\",\n",
    "        messages = qrys,\n",
    "        temperature=0.0\n",
    "    )\n",
    "    outputs = [res.choices[0].message.content for res in responses]\n",
    "    df[f'problem_{lang}'] = outputs"
   ]
  },
  {
   "cell_type": "code",
   "execution_count": 71,
   "id": "6e5801bc-2605-48f2-bdeb-74ae52efc232",
   "metadata": {},
   "outputs": [],
   "source": [
    "def extract_translation(text):\n",
    "    match = re.search(r'<translation>(.*?)</translation>', text, re.DOTALL)\n",
    "    return match.group(1).strip() if match else None"
   ]
  },
  {
   "cell_type": "code",
   "execution_count": 75,
   "id": "a01c85e6-1722-4394-b8c2-b7c0d69c3cb6",
   "metadata": {},
   "outputs": [],
   "source": [
    "cols =  ['problem_Korean',\n",
    "       'problem_Afrikaans', 'problem_Arabic', 'problem_Chinese (Simplified)',\n",
    "       'problem_French', 'problem_English', 'problem_German', 'problem_Hebrew',\n",
    "       'problem_Indonesian', 'problem_Vietnamese', 'problem_Italian',\n",
    "       'problem_Japanese', 'problem_Spanish', 'problem_Turkish']\n",
    "for c in cols:\n",
    "    df[c] = df[c].apply(lambda x:extract_translation(x))"
   ]
  },
  {
   "cell_type": "code",
   "execution_count": 79,
   "id": "e7d1bdd5-f93c-456b-9645-1573cbbc6004",
   "metadata": {},
   "outputs": [
    {
     "data": {
      "application/vnd.jupyter.widget-view+json": {
       "model_id": "4f305fcfe4dd4b63bf5473403a37a019",
       "version_major": 2,
       "version_minor": 0
      },
      "text/plain": [
       "Uploading the dataset shards:   0%|          | 0/1 [00:00<?, ?it/s]"
      ]
     },
     "metadata": {},
     "output_type": "display_data"
    },
    {
     "data": {
      "application/vnd.jupyter.widget-view+json": {
       "model_id": "8634d2c4d8bd49ecb3e4c78492cb0fdb",
       "version_major": 2,
       "version_minor": 0
      },
      "text/plain": [
       "Creating parquet from Arrow format:   0%|          | 0/1 [00:00<?, ?ba/s]"
      ]
     },
     "metadata": {},
     "output_type": "display_data"
    },
    {
     "data": {
      "text/plain": [
       "CommitInfo(commit_url='https://huggingface.co/datasets/amphora/m-aime-2024/commit/2808f8e91371b616c423135f06566ae1eb990b02', commit_message='Upload dataset', commit_description='', oid='2808f8e91371b616c423135f06566ae1eb990b02', pr_url=None, repo_url=RepoUrl('https://huggingface.co/datasets/amphora/m-aime-2024', endpoint='https://huggingface.co', repo_type='dataset', repo_id='amphora/m-aime-2024'), pr_revision=None, pr_num=None)"
      ]
     },
     "execution_count": 79,
     "metadata": {},
     "output_type": "execute_result"
    }
   ],
   "source": [
    "from datasets import Dataset\n",
    "\n",
    "ds = Dataset.from_pandas(df)\n",
    "ds.push_to_hub('amphora/m-aime-2024')"
   ]
  },
  {
   "cell_type": "code",
   "execution_count": null,
   "id": "c71d259a-d966-4ac4-95e4-588f04695f66",
   "metadata": {},
   "outputs": [],
   "source": []
  }
 ],
 "metadata": {
  "kernelspec": {
   "display_name": "Python 3 (ipykernel)",
   "language": "python",
   "name": "python3"
  },
  "language_info": {
   "codemirror_mode": {
    "name": "ipython",
    "version": 3
   },
   "file_extension": ".py",
   "mimetype": "text/x-python",
   "name": "python",
   "nbconvert_exporter": "python",
   "pygments_lexer": "ipython3",
   "version": "3.10.14"
  }
 },
 "nbformat": 4,
 "nbformat_minor": 5
}
