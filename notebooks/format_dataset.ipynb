{
 "cells": [
  {
   "cell_type": "code",
   "execution_count": 4,
   "id": "344cfe5d-cf16-44df-a479-798aa07ba6a9",
   "metadata": {},
   "outputs": [
    {
     "data": {
      "application/vnd.jupyter.widget-view+json": {
       "model_id": "fd41f0bfc1044faf972a08403fb93d8d",
       "version_major": 2,
       "version_minor": 0
      },
      "text/plain": [
       "README.md:   0%|          | 0.00/690 [00:00<?, ?B/s]"
      ]
     },
     "metadata": {},
     "output_type": "display_data"
    },
    {
     "data": {
      "application/vnd.jupyter.widget-view+json": {
       "model_id": "7fbf269b96674a6fbac0e7ce33f337e1",
       "version_major": 2,
       "version_minor": 0
      },
      "text/plain": [
       "train-00000-of-00012.parquet:   0%|          | 0.00/208M [00:00<?, ?B/s]"
      ]
     },
     "metadata": {},
     "output_type": "display_data"
    },
    {
     "data": {
      "application/vnd.jupyter.widget-view+json": {
       "model_id": "c790337e712a429787aadc4643f1cf6a",
       "version_major": 2,
       "version_minor": 0
      },
      "text/plain": [
       "train-00001-of-00012.parquet:   0%|          | 0.00/211M [00:00<?, ?B/s]"
      ]
     },
     "metadata": {},
     "output_type": "display_data"
    },
    {
     "data": {
      "application/vnd.jupyter.widget-view+json": {
       "model_id": "c29f14d64aa94e3b87a084a151f899b7",
       "version_major": 2,
       "version_minor": 0
      },
      "text/plain": [
       "train-00002-of-00012.parquet:   0%|          | 0.00/209M [00:00<?, ?B/s]"
      ]
     },
     "metadata": {},
     "output_type": "display_data"
    },
    {
     "data": {
      "application/vnd.jupyter.widget-view+json": {
       "model_id": "f3ebd92342b545919daed88d895a279f",
       "version_major": 2,
       "version_minor": 0
      },
      "text/plain": [
       "train-00003-of-00012.parquet:   0%|          | 0.00/209M [00:00<?, ?B/s]"
      ]
     },
     "metadata": {},
     "output_type": "display_data"
    },
    {
     "data": {
      "application/vnd.jupyter.widget-view+json": {
       "model_id": "37b77ef39d3c4c8a904923bd6fc378d0",
       "version_major": 2,
       "version_minor": 0
      },
      "text/plain": [
       "train-00004-of-00012.parquet:   0%|          | 0.00/206M [00:00<?, ?B/s]"
      ]
     },
     "metadata": {},
     "output_type": "display_data"
    },
    {
     "data": {
      "application/vnd.jupyter.widget-view+json": {
       "model_id": "08142c3935fa4dc28032a5c792869f82",
       "version_major": 2,
       "version_minor": 0
      },
      "text/plain": [
       "train-00005-of-00012.parquet:   0%|          | 0.00/210M [00:00<?, ?B/s]"
      ]
     },
     "metadata": {},
     "output_type": "display_data"
    },
    {
     "data": {
      "application/vnd.jupyter.widget-view+json": {
       "model_id": "0587abeeb3d54767b338df356dc568f9",
       "version_major": 2,
       "version_minor": 0
      },
      "text/plain": [
       "train-00006-of-00012.parquet:   0%|          | 0.00/209M [00:00<?, ?B/s]"
      ]
     },
     "metadata": {},
     "output_type": "display_data"
    },
    {
     "data": {
      "application/vnd.jupyter.widget-view+json": {
       "model_id": "b9129223966d4f229837ffa04a0d5cc1",
       "version_major": 2,
       "version_minor": 0
      },
      "text/plain": [
       "train-00007-of-00012.parquet:   0%|          | 0.00/210M [00:00<?, ?B/s]"
      ]
     },
     "metadata": {},
     "output_type": "display_data"
    },
    {
     "data": {
      "application/vnd.jupyter.widget-view+json": {
       "model_id": "5c3a776d766545c5bc200bd85b02988c",
       "version_major": 2,
       "version_minor": 0
      },
      "text/plain": [
       "train-00008-of-00012.parquet:   0%|          | 0.00/208M [00:00<?, ?B/s]"
      ]
     },
     "metadata": {},
     "output_type": "display_data"
    },
    {
     "data": {
      "application/vnd.jupyter.widget-view+json": {
       "model_id": "e11123c5b8c141fe9040cdff4659c27c",
       "version_major": 2,
       "version_minor": 0
      },
      "text/plain": [
       "train-00009-of-00012.parquet:   0%|          | 0.00/208M [00:00<?, ?B/s]"
      ]
     },
     "metadata": {},
     "output_type": "display_data"
    },
    {
     "data": {
      "application/vnd.jupyter.widget-view+json": {
       "model_id": "9c39f899486141ef96cf6e3ecca3ed19",
       "version_major": 2,
       "version_minor": 0
      },
      "text/plain": [
       "train-00010-of-00012.parquet:   0%|          | 0.00/207M [00:00<?, ?B/s]"
      ]
     },
     "metadata": {},
     "output_type": "display_data"
    },
    {
     "data": {
      "application/vnd.jupyter.widget-view+json": {
       "model_id": "024248975687455b8f290a16bc746b7f",
       "version_major": 2,
       "version_minor": 0
      },
      "text/plain": [
       "train-00011-of-00012.parquet:   0%|          | 0.00/210M [00:00<?, ?B/s]"
      ]
     },
     "metadata": {},
     "output_type": "display_data"
    },
    {
     "data": {
      "application/vnd.jupyter.widget-view+json": {
       "model_id": "224629fa008847dcab74bed58d62963e",
       "version_major": 2,
       "version_minor": 0
      },
      "text/plain": [
       "Generating train split:   0%|          | 0/127552 [00:00<?, ? examples/s]"
      ]
     },
     "metadata": {},
     "output_type": "display_data"
    }
   ],
   "source": [
    "from datasets import load_dataset\n",
    "import pandas as pd\n",
    "from tqdm import tqdm\n",
    "ds = load_dataset('amphora/mr1-orpo-formatted-v7')\n",
    "df0 = pd.DataFrame(ds['train'])\n"
   ]
  },
  {
   "cell_type": "code",
   "execution_count": 8,
   "id": "42795d51-5f44-4317-b53a-d0fa39bd71fe",
   "metadata": {},
   "outputs": [
    {
     "name": "stderr",
     "output_type": "stream",
     "text": [
      "100%|██████████| 127552/127552 [00:04<00:00, 27678.35it/s]\n"
     ]
    }
   ],
   "source": [
    "messages = []\n",
    "for _,row in tqdm(df0.iterrows(),total=len(df0)):\n",
    "    messages.append(row.chosen)\n",
    "df0['messages']=messages"
   ]
  },
  {
   "cell_type": "raw",
   "id": "f502dab3-a395-4d14-b64b-2729201895fc",
   "metadata": {},
   "source": []
  },
  {
   "cell_type": "code",
   "execution_count": 10,
   "id": "41caaa0c-e61d-4702-8095-cff7cb5bf478",
   "metadata": {},
   "outputs": [],
   "source": [
    "df0 = df0[['prompt','messages']]"
   ]
  },
  {
   "cell_type": "code",
   "execution_count": 11,
   "id": "80407701-557f-4e40-89c3-8e2a741c5169",
   "metadata": {},
   "outputs": [],
   "source": [
    "df0.to_json(\"train.jsonl\", orient=\"records\", lines=True)"
   ]
  },
  {
   "cell_type": "code",
   "execution_count": 13,
   "id": "a5409406-ab68-4c62-90cf-c691e795002d",
   "metadata": {},
   "outputs": [
    {
     "data": {
      "application/vnd.jupyter.widget-view+json": {
       "model_id": "30389a782aae488ba5e0bf08a421fa56",
       "version_major": 2,
       "version_minor": 0
      },
      "text/plain": [
       "model-00002-of-00004.safetensors:   0%|          | 0.00/4.93G [00:00<?, ?B/s]"
      ]
     },
     "metadata": {},
     "output_type": "display_data"
    },
    {
     "data": {
      "application/vnd.jupyter.widget-view+json": {
       "model_id": "7ae24bf81aa248bfaf0345c195253199",
       "version_major": 2,
       "version_minor": 0
      },
      "text/plain": [
       "model-00003-of-00004.safetensors:   0%|          | 0.00/4.33G [00:00<?, ?B/s]"
      ]
     },
     "metadata": {},
     "output_type": "display_data"
    },
    {
     "data": {
      "application/vnd.jupyter.widget-view+json": {
       "model_id": "d04cf3081bce4d89bffa3f486fa4d80b",
       "version_major": 2,
       "version_minor": 0
      },
      "text/plain": [
       "model-00001-of-00004.safetensors:   0%|          | 0.00/4.87G [00:00<?, ?B/s]"
      ]
     },
     "metadata": {},
     "output_type": "display_data"
    },
    {
     "data": {
      "application/vnd.jupyter.widget-view+json": {
       "model_id": "63cc48dc04b548cdb85141cf0a7fbe8e",
       "version_major": 2,
       "version_minor": 0
      },
      "text/plain": [
       "scheduler.pt:   0%|          | 0.00/1.06k [00:00<?, ?B/s]"
      ]
     },
     "metadata": {},
     "output_type": "display_data"
    },
    {
     "data": {
      "application/vnd.jupyter.widget-view+json": {
       "model_id": "a8f118db18474a7881a61e654fc7b9ca",
       "version_major": 2,
       "version_minor": 0
      },
      "text/plain": [
       "Upload 5 LFS files:   0%|          | 0/5 [00:00<?, ?it/s]"
      ]
     },
     "metadata": {},
     "output_type": "display_data"
    },
    {
     "data": {
      "application/vnd.jupyter.widget-view+json": {
       "model_id": "5bef5bbd9aa1414a9f7c05b4f7bc62cb",
       "version_major": 2,
       "version_minor": 0
      },
      "text/plain": [
       "model-00004-of-00004.safetensors:   0%|          | 0.00/1.09G [00:00<?, ?B/s]"
      ]
     },
     "metadata": {},
     "output_type": "display_data"
    },
    {
     "data": {
      "text/plain": [
       "CommitInfo(commit_url='https://huggingface.co/amphora/mr1-1.5b/commit/49f68dc7ab98a32b3971f881a4b84d0a0b164f0f', commit_message='Upload folder using huggingface_hub', commit_description='', oid='49f68dc7ab98a32b3971f881a4b84d0a0b164f0f', pr_url=None, repo_url=RepoUrl('https://huggingface.co/amphora/mr1-1.5b', endpoint='https://huggingface.co', repo_type='model', repo_id='amphora/mr1-1.5b'), pr_revision=None, pr_num=None)"
      ]
     },
     "execution_count": 13,
     "metadata": {},
     "output_type": "execute_result"
    }
   ],
   "source": [
    "from huggingface_hub import HfApi\n",
    "api = HfApi()\n",
    "\n",
    "api.upload_folder(\n",
    "    folder_path=\"outputs/out/checkpoint-214\",\n",
    "    path_in_repo=\"1.5b-sft/ckpt-214\",\n",
    "    repo_id=\"amphora/mr1-1.5b\",\n",
    "    repo_type=\"model\",\n",
    "    ignore_patterns=['*global_step*']\n",
    ")"
   ]
  },
  {
   "cell_type": "code",
   "execution_count": null,
   "id": "9607069d-6dc4-4520-91d4-a7eaa8fa8d41",
   "metadata": {},
   "outputs": [],
   "source": []
  }
 ],
 "metadata": {
  "kernelspec": {
   "display_name": "Python 3 (ipykernel)",
   "language": "python",
   "name": "python3"
  },
  "language_info": {
   "codemirror_mode": {
    "name": "ipython",
    "version": 3
   },
   "file_extension": ".py",
   "mimetype": "text/x-python",
   "name": "python",
   "nbconvert_exporter": "python",
   "pygments_lexer": "ipython3",
   "version": "3.11.10"
  }
 },
 "nbformat": 4,
 "nbformat_minor": 5
}
