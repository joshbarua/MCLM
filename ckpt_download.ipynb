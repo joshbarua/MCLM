{
 "cells": [
  {
   "cell_type": "code",
   "execution_count": null,
   "metadata": {
    "vscode": {
     "languageId": "plaintext"
    }
   },
   "outputs": [],
   "source": [
    "from huggingface_hub import snapshot_download\n",
    "\n",
    "snapshot_download(\n",
    "    \"amphora/1.5b-55k-e3\", allow_patterns=['rerun*'],local_dir=\"openr1-sft\"\n",
    ")\n",
    "\n",
    "snapshot_download(\n",
    "    \"reasoning-project/Q25-1.5B-Open-R1-55K-GRPO-Acc2-format5e1\",local_dir=\"openr1-grpo\"\n",
    ")"
   ]
  }
 ],
 "metadata": {
  "language_info": {
   "name": "python"
  }
 },
 "nbformat": 4,
 "nbformat_minor": 2
}
